{
 "cells": [
  {
   "cell_type": "code",
   "execution_count": null,
   "id": "57a1a3c9",
   "metadata": {},
   "outputs": [],
   "source": [
    "#!pip install -U sentence-transformers rank_bm25"
   ]
  },
  {
   "cell_type": "code",
   "execution_count": null,
   "id": "20b87d59",
   "metadata": {},
   "outputs": [],
   "source": [
    "import json\n",
    "from sentence_transformers import SentenceTransformer, CrossEncoder, util\n",
    "import gzip\n",
    "import os\n",
    "import torch\n",
    "import pandas as pd\n"
   ]
  },
  {
   "cell_type": "code",
   "execution_count": 8,
   "id": "18fbe684",
   "metadata": {},
   "outputs": [],
   "source": [
    "df = pd.read_json('product_title.json' , lines=True)"
   ]
  },
  {
   "cell_type": "code",
   "execution_count": 9,
   "id": "f6708740",
   "metadata": {},
   "outputs": [
    {
     "data": {
      "text/html": [
       "<div>\n",
       "<style scoped>\n",
       "    .dataframe tbody tr th:only-of-type {\n",
       "        vertical-align: middle;\n",
       "    }\n",
       "\n",
       "    .dataframe tbody tr th {\n",
       "        vertical-align: top;\n",
       "    }\n",
       "\n",
       "    .dataframe thead th {\n",
       "        text-align: right;\n",
       "    }\n",
       "</style>\n",
       "<table border=\"1\" class=\"dataframe\">\n",
       "  <thead>\n",
       "    <tr style=\"text-align: right;\">\n",
       "      <th></th>\n",
       "      <th>text</th>\n",
       "      <th>id</th>\n",
       "    </tr>\n",
       "  </thead>\n",
       "  <tbody>\n",
       "    <tr>\n",
       "      <th>0</th>\n",
       "      <td>Propet Logan Men's Sneakers Black 8 MED</td>\n",
       "      <td>5d510c0a59443bd0c302e850500c1feddc91b13b</td>\n",
       "    </tr>\n",
       "    <tr>\n",
       "      <th>1</th>\n",
       "      <td>Propet Logan Men's Sneakers Brown 10.5 MED</td>\n",
       "      <td>a1223430fcd213ceb15c9014d9ba303705b2ee5b</td>\n",
       "    </tr>\n",
       "    <tr>\n",
       "      <th>2</th>\n",
       "      <td>Propet Logan Men's Sneakers Black 11.5 MED</td>\n",
       "      <td>640f34f6703cc72c054630bb0edafdb627a58a49</td>\n",
       "    </tr>\n",
       "    <tr>\n",
       "      <th>3</th>\n",
       "      <td>Propet Logan Men's Sneakers Black 13 MED</td>\n",
       "      <td>8e56269884f46fdff72e6993eeebc424f00e5c8b</td>\n",
       "    </tr>\n",
       "    <tr>\n",
       "      <th>4</th>\n",
       "      <td>Propet Logan Men's Sneakers Black 14 MED</td>\n",
       "      <td>76e8ab3515ff502de2fc84e42c97ae8d4fd21bf3</td>\n",
       "    </tr>\n",
       "  </tbody>\n",
       "</table>\n",
       "</div>"
      ],
      "text/plain": [
       "                                         text  \\\n",
       "0     Propet Logan Men's Sneakers Black 8 MED   \n",
       "1  Propet Logan Men's Sneakers Brown 10.5 MED   \n",
       "2  Propet Logan Men's Sneakers Black 11.5 MED   \n",
       "3    Propet Logan Men's Sneakers Black 13 MED   \n",
       "4    Propet Logan Men's Sneakers Black 14 MED   \n",
       "\n",
       "                                         id  \n",
       "0  5d510c0a59443bd0c302e850500c1feddc91b13b  \n",
       "1  a1223430fcd213ceb15c9014d9ba303705b2ee5b  \n",
       "2  640f34f6703cc72c054630bb0edafdb627a58a49  \n",
       "3  8e56269884f46fdff72e6993eeebc424f00e5c8b  \n",
       "4  76e8ab3515ff502de2fc84e42c97ae8d4fd21bf3  "
      ]
     },
     "execution_count": 9,
     "metadata": {},
     "output_type": "execute_result"
    }
   ],
   "source": [
    "df.head()"
   ]
  },
  {
   "cell_type": "code",
   "execution_count": null,
   "id": "f2728541",
   "metadata": {},
   "outputs": [],
   "source": []
  },
  {
   "cell_type": "code",
   "execution_count": 14,
   "id": "346af7c8",
   "metadata": {},
   "outputs": [
    {
     "name": "stdout",
     "output_type": "stream",
     "text": [
      "Warning: No GPU found. Please add GPU to your notebook\n"
     ]
    },
    {
     "data": {
      "application/vnd.jupyter.widget-view+json": {
       "model_id": "e8adcd27065844c682697cdaad74cc23",
       "version_major": 2,
       "version_minor": 0
      },
      "text/plain": [
       "Downloading:   0%|          | 0.00/737 [00:00<?, ?B/s]"
      ]
     },
     "metadata": {},
     "output_type": "display_data"
    },
    {
     "data": {
      "application/vnd.jupyter.widget-view+json": {
       "model_id": "f64226cdc76b4cc596a91641f1e278d0",
       "version_major": 2,
       "version_minor": 0
      },
      "text/plain": [
       "Downloading:   0%|          | 0.00/9.22k [00:00<?, ?B/s]"
      ]
     },
     "metadata": {},
     "output_type": "display_data"
    },
    {
     "data": {
      "application/vnd.jupyter.widget-view+json": {
       "model_id": "b263630211764796b15810bec5451072",
       "version_major": 2,
       "version_minor": 0
      },
      "text/plain": [
       "Downloading:   0%|          | 0.00/612 [00:00<?, ?B/s]"
      ]
     },
     "metadata": {},
     "output_type": "display_data"
    },
    {
     "data": {
      "application/vnd.jupyter.widget-view+json": {
       "model_id": "2faa5a4972f94c66bb42e9f068a383ef",
       "version_major": 2,
       "version_minor": 0
      },
      "text/plain": [
       "Downloading:   0%|          | 0.00/116 [00:00<?, ?B/s]"
      ]
     },
     "metadata": {},
     "output_type": "display_data"
    },
    {
     "data": {
      "application/vnd.jupyter.widget-view+json": {
       "model_id": "c99851bb421a49e7a7facb921ac50dad",
       "version_major": 2,
       "version_minor": 0
      },
      "text/plain": [
       "Downloading:   0%|          | 0.00/25.5k [00:00<?, ?B/s]"
      ]
     },
     "metadata": {},
     "output_type": "display_data"
    },
    {
     "data": {
      "application/vnd.jupyter.widget-view+json": {
       "model_id": "3e41a3e5a6e64d4e89849f17b308de88",
       "version_major": 2,
       "version_minor": 0
      },
      "text/plain": [
       "Downloading:   0%|          | 0.00/349 [00:00<?, ?B/s]"
      ]
     },
     "metadata": {},
     "output_type": "display_data"
    },
    {
     "data": {
      "application/vnd.jupyter.widget-view+json": {
       "model_id": "758a34d16bbd493fbdcd18d9f4e618d3",
       "version_major": 2,
       "version_minor": 0
      },
      "text/plain": [
       "Downloading:   0%|          | 0.00/90.9M [00:00<?, ?B/s]"
      ]
     },
     "metadata": {},
     "output_type": "display_data"
    },
    {
     "data": {
      "application/vnd.jupyter.widget-view+json": {
       "model_id": "34236f3bf795450488af4af09b2495fd",
       "version_major": 2,
       "version_minor": 0
      },
      "text/plain": [
       "Downloading:   0%|          | 0.00/53.0 [00:00<?, ?B/s]"
      ]
     },
     "metadata": {},
     "output_type": "display_data"
    },
    {
     "data": {
      "application/vnd.jupyter.widget-view+json": {
       "model_id": "e608212edccc4566aeb505167a1f743a",
       "version_major": 2,
       "version_minor": 0
      },
      "text/plain": [
       "Downloading:   0%|          | 0.00/112 [00:00<?, ?B/s]"
      ]
     },
     "metadata": {},
     "output_type": "display_data"
    },
    {
     "data": {
      "application/vnd.jupyter.widget-view+json": {
       "model_id": "7e2f359f2d044375b38d6a0da22ba330",
       "version_major": 2,
       "version_minor": 0
      },
      "text/plain": [
       "Downloading:   0%|          | 0.00/466k [00:00<?, ?B/s]"
      ]
     },
     "metadata": {},
     "output_type": "display_data"
    },
    {
     "data": {
      "application/vnd.jupyter.widget-view+json": {
       "model_id": "91546c58b10547868290810077735210",
       "version_major": 2,
       "version_minor": 0
      },
      "text/plain": [
       "Downloading:   0%|          | 0.00/383 [00:00<?, ?B/s]"
      ]
     },
     "metadata": {},
     "output_type": "display_data"
    },
    {
     "data": {
      "application/vnd.jupyter.widget-view+json": {
       "model_id": "233847ac5ec647bd9ff5986147abdaee",
       "version_major": 2,
       "version_minor": 0
      },
      "text/plain": [
       "Downloading:   0%|          | 0.00/13.8k [00:00<?, ?B/s]"
      ]
     },
     "metadata": {},
     "output_type": "display_data"
    },
    {
     "data": {
      "application/vnd.jupyter.widget-view+json": {
       "model_id": "e11bae7f63104cf7835fb5b93a63929f",
       "version_major": 2,
       "version_minor": 0
      },
      "text/plain": [
       "Downloading:   0%|          | 0.00/232k [00:00<?, ?B/s]"
      ]
     },
     "metadata": {},
     "output_type": "display_data"
    },
    {
     "data": {
      "application/vnd.jupyter.widget-view+json": {
       "model_id": "1dc6f4c387cd42fea31d3e62c6265fe6",
       "version_major": 2,
       "version_minor": 0
      },
      "text/plain": [
       "Downloading:   0%|          | 0.00/190 [00:00<?, ?B/s]"
      ]
     },
     "metadata": {},
     "output_type": "display_data"
    },
    {
     "data": {
      "application/vnd.jupyter.widget-view+json": {
       "model_id": "f4b18488dd7743e19bde43e8f06b3c73",
       "version_major": 2,
       "version_minor": 0
      },
      "text/plain": [
       "Downloading:   0%|          | 0.00/794 [00:00<?, ?B/s]"
      ]
     },
     "metadata": {},
     "output_type": "display_data"
    },
    {
     "data": {
      "application/vnd.jupyter.widget-view+json": {
       "model_id": "7c9fbe731c544d7795f7923d53b8b173",
       "version_major": 2,
       "version_minor": 0
      },
      "text/plain": [
       "Downloading:   0%|          | 0.00/86.7M [00:00<?, ?B/s]"
      ]
     },
     "metadata": {},
     "output_type": "display_data"
    },
    {
     "data": {
      "application/vnd.jupyter.widget-view+json": {
       "model_id": "7af336db4d9d41ceb23abe2b19784d52",
       "version_major": 2,
       "version_minor": 0
      },
      "text/plain": [
       "Downloading:   0%|          | 0.00/316 [00:00<?, ?B/s]"
      ]
     },
     "metadata": {},
     "output_type": "display_data"
    },
    {
     "data": {
      "application/vnd.jupyter.widget-view+json": {
       "model_id": "b700251c1bb94683b650fdb6c563eef9",
       "version_major": 2,
       "version_minor": 0
      },
      "text/plain": [
       "Downloading:   0%|          | 0.00/226k [00:00<?, ?B/s]"
      ]
     },
     "metadata": {},
     "output_type": "display_data"
    },
    {
     "data": {
      "application/vnd.jupyter.widget-view+json": {
       "model_id": "8a1b1eccd58a4691a22d544a78a01b83",
       "version_major": 2,
       "version_minor": 0
      },
      "text/plain": [
       "Downloading:   0%|          | 0.00/112 [00:00<?, ?B/s]"
      ]
     },
     "metadata": {},
     "output_type": "display_data"
    }
   ],
   "source": [
    "\n",
    "\n",
    "if not torch.cuda.is_available():\n",
    "    print(\"Warning: No GPU found. Please add GPU to your notebook\")\n",
    "\n",
    "\n",
    "#We use the Bi-Encoder to encode all passages, so that we can use it with sematic search\n",
    "bi_encoder = SentenceTransformer('multi-qa-MiniLM-L6-cos-v1')\n",
    "bi_encoder.max_seq_length = 256     #Truncate long passages to 256 tokens\n",
    "top_k = 32                          #Number of passages we want to retrieve with the bi-encoder\n",
    "\n",
    "#The bi-encoder will retrieve 100 documents. We use a cross-encoder, to re-rank the results list to improve the quality\n",
    "cross_encoder = CrossEncoder('cross-encoder/ms-marco-MiniLM-L-6-v2')\n"
   ]
  },
  {
   "cell_type": "code",
   "execution_count": 15,
   "id": "abbdfbce",
   "metadata": {},
   "outputs": [
    {
     "data": {
      "text/html": [
       "<div>\n",
       "<style scoped>\n",
       "    .dataframe tbody tr th:only-of-type {\n",
       "        vertical-align: middle;\n",
       "    }\n",
       "\n",
       "    .dataframe tbody tr th {\n",
       "        vertical-align: top;\n",
       "    }\n",
       "\n",
       "    .dataframe thead th {\n",
       "        text-align: right;\n",
       "    }\n",
       "</style>\n",
       "<table border=\"1\" class=\"dataframe\">\n",
       "  <thead>\n",
       "    <tr style=\"text-align: right;\">\n",
       "      <th></th>\n",
       "      <th>text</th>\n",
       "      <th>id</th>\n",
       "    </tr>\n",
       "  </thead>\n",
       "  <tbody>\n",
       "    <tr>\n",
       "      <th>0</th>\n",
       "      <td>Propet Logan Men's Sneakers Black 8 MED</td>\n",
       "      <td>5d510c0a59443bd0c302e850500c1feddc91b13b</td>\n",
       "    </tr>\n",
       "    <tr>\n",
       "      <th>1</th>\n",
       "      <td>Propet Logan Men's Sneakers Brown 10.5 MED</td>\n",
       "      <td>a1223430fcd213ceb15c9014d9ba303705b2ee5b</td>\n",
       "    </tr>\n",
       "    <tr>\n",
       "      <th>2</th>\n",
       "      <td>Propet Logan Men's Sneakers Black 11.5 MED</td>\n",
       "      <td>640f34f6703cc72c054630bb0edafdb627a58a49</td>\n",
       "    </tr>\n",
       "    <tr>\n",
       "      <th>3</th>\n",
       "      <td>Propet Logan Men's Sneakers Black 13 MED</td>\n",
       "      <td>8e56269884f46fdff72e6993eeebc424f00e5c8b</td>\n",
       "    </tr>\n",
       "    <tr>\n",
       "      <th>4</th>\n",
       "      <td>Propet Logan Men's Sneakers Black 14 MED</td>\n",
       "      <td>76e8ab3515ff502de2fc84e42c97ae8d4fd21bf3</td>\n",
       "    </tr>\n",
       "  </tbody>\n",
       "</table>\n",
       "</div>"
      ],
      "text/plain": [
       "                                         text  \\\n",
       "0     Propet Logan Men's Sneakers Black 8 MED   \n",
       "1  Propet Logan Men's Sneakers Brown 10.5 MED   \n",
       "2  Propet Logan Men's Sneakers Black 11.5 MED   \n",
       "3    Propet Logan Men's Sneakers Black 13 MED   \n",
       "4    Propet Logan Men's Sneakers Black 14 MED   \n",
       "\n",
       "                                         id  \n",
       "0  5d510c0a59443bd0c302e850500c1feddc91b13b  \n",
       "1  a1223430fcd213ceb15c9014d9ba303705b2ee5b  \n",
       "2  640f34f6703cc72c054630bb0edafdb627a58a49  \n",
       "3  8e56269884f46fdff72e6993eeebc424f00e5c8b  \n",
       "4  76e8ab3515ff502de2fc84e42c97ae8d4fd21bf3  "
      ]
     },
     "execution_count": 15,
     "metadata": {},
     "output_type": "execute_result"
    }
   ],
   "source": [
    "df.head() "
   ]
  },
  {
   "cell_type": "code",
   "execution_count": 17,
   "id": "10e5adea",
   "metadata": {},
   "outputs": [
    {
     "data": {
      "text/plain": [
       "(1943818, 2)"
      ]
     },
     "execution_count": 17,
     "metadata": {},
     "output_type": "execute_result"
    }
   ],
   "source": [
    "df.shape"
   ]
  },
  {
   "cell_type": "code",
   "execution_count": 20,
   "id": "9f86b799",
   "metadata": {},
   "outputs": [],
   "source": [
    "# We encode all passages into our vector space. This takes about 5 minutes (depends on your GPU speed)\n",
    "#corpus_embeddings = bi_encoder.encode(df['text'], convert_to_tensor=True, show_progress_bar=True)"
   ]
  },
  {
   "cell_type": "code",
   "execution_count": 21,
   "id": "407e30d0",
   "metadata": {},
   "outputs": [],
   "source": [
    "# We lower case our text and remove stop-words from indexing\n",
    "def bm25_tokenizer(text):\n",
    "    tokenized_doc = []\n",
    "    for token in text.lower().split():\n",
    "        token = token.strip(string.punctuation)\n",
    "\n",
    "        if len(token) > 0 and token not in _stop_words.ENGLISH_STOP_WORDS:\n",
    "            tokenized_doc.append(token)\n",
    "    return tokenized_doc"
   ]
  },
  {
   "cell_type": "code",
   "execution_count": 22,
   "id": "3049209c",
   "metadata": {},
   "outputs": [],
   "source": [
    "# tokenized_corpus = []\n",
    "# for passage in tqdm(data['text']):\n",
    "#     tokenized_corpus.append(bm25_tokenizer(passage))\n"
   ]
  },
  {
   "cell_type": "code",
   "execution_count": 24,
   "id": "59ac4210",
   "metadata": {},
   "outputs": [],
   "source": [
    "corpus_embeddings = torch.load(\"embeddings.pt\",map_location=torch.device('cpu') )"
   ]
  },
  {
   "cell_type": "code",
   "execution_count": 65,
   "id": "3590b5d3",
   "metadata": {},
   "outputs": [],
   "source": [
    "# This function will search all wikipedia articles for passages that\n",
    "# answer the query\n",
    "def search(query):\n",
    "    print(\"Input question:\", query)\n",
    "\n",
    "    ##### Sematic Search #####\n",
    "    # Encode the query using the bi-encoder and find potentially relevant passages\n",
    "    question_embedding = bi_encoder.encode(query, convert_to_tensor=True)\n",
    "    #question_embedding = question_embedding.cuda()\n",
    "    hits = util.semantic_search(question_embedding, corpus_embeddings, top_k=top_k)\n",
    "    hits = hits[0]  # Get the hits for the first query\n",
    "    #print(hits)\n",
    "    ##### Re-Ranking #####\n",
    "    # Now, score all retrieved passages with the cross_encoder\n",
    "    cross_inp = [[query, df['id'][hit['corpus_id']]] for hit in hits]\n",
    "    cross_scores = cross_encoder.predict(cross_inp)\n",
    "\n",
    "    # Sort results by the cross-encoder scores\n",
    "    for idx in range(len(cross_scores)):\n",
    "        hits[idx]['cross-score'] = cross_scores[idx]\n",
    "\n",
    "\n",
    "    # Output of top-5 hits from re-ranker\n",
    "    print(\"\\n-------------------------\\n\")\n",
    "    print(\"Top-10 Cross-Encoder Re-ranker hits\")\n",
    "    hits = sorted(hits, key=lambda x: x['cross-score'], reverse=True)\n",
    "    final_df = []\n",
    "    \n",
    "    for hit in hits[0:10]:\n",
    "        \n",
    "        id_var = df['id'][hit['corpus_id']].replace(\"\\n\", \" \")\n",
    "        test_var = df['text'][hit['corpus_id']].replace(\"\\n\", \" \")\n",
    "        score = hit['cross-score']\n",
    "        d={'id_var':id_var,'text':test_var,'Score':score}\n",
    "        df_final_new =pd.DataFrame(d,index=[0])\n",
    "        final_df.append(df_final_new)\n",
    "        print(\"\\t{}\\t{}\\t{:.3f}\".format(df['id'][hit['corpus_id']].replace(\"\\n\", \" \"),df['text'][hit['corpus_id']].replace(\"\\n\", \" \"),hit['cross-score']))\n",
    "\n",
    "    final_df=pd.concat(final_df)\n",
    "    \n",
    "    return final_df\n",
    "    "
   ]
  },
  {
   "cell_type": "code",
   "execution_count": 66,
   "id": "849d94b0",
   "metadata": {},
   "outputs": [
    {
     "name": "stdout",
     "output_type": "stream",
     "text": [
      "Input question: What brands  of jeans are there for men \n",
      "\n",
      "-------------------------\n",
      "\n",
      "Top-10 Cross-Encoder Re-ranker hits\n",
      "\t9d0473e6f00bd586a8521453c1588ff261de32fa\tMen's Levi's® 513™ Slim Straight Stretch Jeans Emgee 32X29\t-10.526\n",
      "\t4b79c71924c61f0f7431710b1cdc39b61640f82e\tMen's Levi's® 559™ Relaxed Straight Fit Jeans Range 40X32\t-10.677\n",
      "\t2a4a1c4e1093cba12d2181379a65663b2f233017\tMen's Levi's® 559™ Relaxed Straight Fit Jeans Black 38X32\t-10.687\n",
      "\t262158455d13511685f28215bbbb76b718913c4e\tMen's Levi's® 559™ Relaxed Straight Fit Jeans Black 30X32\t-10.748\n",
      "\t78ebf400879b5889ec73705e241fa4d6d9d6eabd\tMen's Levi's® 559™ Relaxed Straight Fit Jeans Light Blue 38X32\t-10.789\n",
      "\t50fa33c7599331178e5de97ef96c1b6276a016d8\tMen's Levi's® 559™ Relaxed Straight Fit Jeans Range 30X32\t-10.805\n",
      "\ta10e18e908801a186617c1e3f82c0bb9f26c305b\tMen's Levi's® 559™ Relaxed Straight Fit Jeans Range 42X32\t-10.859\n",
      "\tb7afb19eb1a59ad033a524e54f7a4259b48748ff\tMen's Levi's® 514™ Straight Jeans Black Soft Twill 38X30\t-10.870\n",
      "\t15a69f780f2bf1550bcef838174668111e908f91\tMen's Levi's® 559™ Relaxed Straight Fit Jeans Black 40X32\t-10.935\n",
      "\t68c7179af6e169eb372616e78a192feb069d3d39\tMen's Levi's® 559™ Relaxed Straight Fit Jeans Black 44X32\t-10.942\n"
     ]
    }
   ],
   "source": [
    "a=search(\"What brands  of jeans are there for men \")"
   ]
  },
  {
   "cell_type": "code",
   "execution_count": 67,
   "id": "46d648f2",
   "metadata": {},
   "outputs": [
    {
     "data": {
      "text/html": [
       "<div>\n",
       "<style scoped>\n",
       "    .dataframe tbody tr th:only-of-type {\n",
       "        vertical-align: middle;\n",
       "    }\n",
       "\n",
       "    .dataframe tbody tr th {\n",
       "        vertical-align: top;\n",
       "    }\n",
       "\n",
       "    .dataframe thead th {\n",
       "        text-align: right;\n",
       "    }\n",
       "</style>\n",
       "<table border=\"1\" class=\"dataframe\">\n",
       "  <thead>\n",
       "    <tr style=\"text-align: right;\">\n",
       "      <th></th>\n",
       "      <th>id_var</th>\n",
       "      <th>text</th>\n",
       "      <th>Score</th>\n",
       "    </tr>\n",
       "  </thead>\n",
       "  <tbody>\n",
       "    <tr>\n",
       "      <th>0</th>\n",
       "      <td>9d0473e6f00bd586a8521453c1588ff261de32fa</td>\n",
       "      <td>Men's Levi's® 513™ Slim Straight Stretch Jeans...</td>\n",
       "      <td>-10.525821</td>\n",
       "    </tr>\n",
       "    <tr>\n",
       "      <th>0</th>\n",
       "      <td>4b79c71924c61f0f7431710b1cdc39b61640f82e</td>\n",
       "      <td>Men's Levi's® 559™ Relaxed Straight Fit Jeans ...</td>\n",
       "      <td>-10.676777</td>\n",
       "    </tr>\n",
       "    <tr>\n",
       "      <th>0</th>\n",
       "      <td>2a4a1c4e1093cba12d2181379a65663b2f233017</td>\n",
       "      <td>Men's Levi's® 559™ Relaxed Straight Fit Jeans ...</td>\n",
       "      <td>-10.686694</td>\n",
       "    </tr>\n",
       "    <tr>\n",
       "      <th>0</th>\n",
       "      <td>262158455d13511685f28215bbbb76b718913c4e</td>\n",
       "      <td>Men's Levi's® 559™ Relaxed Straight Fit Jeans ...</td>\n",
       "      <td>-10.748376</td>\n",
       "    </tr>\n",
       "    <tr>\n",
       "      <th>0</th>\n",
       "      <td>78ebf400879b5889ec73705e241fa4d6d9d6eabd</td>\n",
       "      <td>Men's Levi's® 559™ Relaxed Straight Fit Jeans ...</td>\n",
       "      <td>-10.788898</td>\n",
       "    </tr>\n",
       "    <tr>\n",
       "      <th>0</th>\n",
       "      <td>50fa33c7599331178e5de97ef96c1b6276a016d8</td>\n",
       "      <td>Men's Levi's® 559™ Relaxed Straight Fit Jeans ...</td>\n",
       "      <td>-10.804819</td>\n",
       "    </tr>\n",
       "    <tr>\n",
       "      <th>0</th>\n",
       "      <td>a10e18e908801a186617c1e3f82c0bb9f26c305b</td>\n",
       "      <td>Men's Levi's® 559™ Relaxed Straight Fit Jeans ...</td>\n",
       "      <td>-10.858742</td>\n",
       "    </tr>\n",
       "    <tr>\n",
       "      <th>0</th>\n",
       "      <td>b7afb19eb1a59ad033a524e54f7a4259b48748ff</td>\n",
       "      <td>Men's Levi's® 514™ Straight Jeans Black Soft T...</td>\n",
       "      <td>-10.870343</td>\n",
       "    </tr>\n",
       "    <tr>\n",
       "      <th>0</th>\n",
       "      <td>15a69f780f2bf1550bcef838174668111e908f91</td>\n",
       "      <td>Men's Levi's® 559™ Relaxed Straight Fit Jeans ...</td>\n",
       "      <td>-10.934950</td>\n",
       "    </tr>\n",
       "    <tr>\n",
       "      <th>0</th>\n",
       "      <td>68c7179af6e169eb372616e78a192feb069d3d39</td>\n",
       "      <td>Men's Levi's® 559™ Relaxed Straight Fit Jeans ...</td>\n",
       "      <td>-10.941975</td>\n",
       "    </tr>\n",
       "  </tbody>\n",
       "</table>\n",
       "</div>"
      ],
      "text/plain": [
       "                                     id_var  \\\n",
       "0  9d0473e6f00bd586a8521453c1588ff261de32fa   \n",
       "0  4b79c71924c61f0f7431710b1cdc39b61640f82e   \n",
       "0  2a4a1c4e1093cba12d2181379a65663b2f233017   \n",
       "0  262158455d13511685f28215bbbb76b718913c4e   \n",
       "0  78ebf400879b5889ec73705e241fa4d6d9d6eabd   \n",
       "0  50fa33c7599331178e5de97ef96c1b6276a016d8   \n",
       "0  a10e18e908801a186617c1e3f82c0bb9f26c305b   \n",
       "0  b7afb19eb1a59ad033a524e54f7a4259b48748ff   \n",
       "0  15a69f780f2bf1550bcef838174668111e908f91   \n",
       "0  68c7179af6e169eb372616e78a192feb069d3d39   \n",
       "\n",
       "                                                text      Score  \n",
       "0  Men's Levi's® 513™ Slim Straight Stretch Jeans... -10.525821  \n",
       "0  Men's Levi's® 559™ Relaxed Straight Fit Jeans ... -10.676777  \n",
       "0  Men's Levi's® 559™ Relaxed Straight Fit Jeans ... -10.686694  \n",
       "0  Men's Levi's® 559™ Relaxed Straight Fit Jeans ... -10.748376  \n",
       "0  Men's Levi's® 559™ Relaxed Straight Fit Jeans ... -10.788898  \n",
       "0  Men's Levi's® 559™ Relaxed Straight Fit Jeans ... -10.804819  \n",
       "0  Men's Levi's® 559™ Relaxed Straight Fit Jeans ... -10.858742  \n",
       "0  Men's Levi's® 514™ Straight Jeans Black Soft T... -10.870343  \n",
       "0  Men's Levi's® 559™ Relaxed Straight Fit Jeans ... -10.934950  \n",
       "0  Men's Levi's® 559™ Relaxed Straight Fit Jeans ... -10.941975  "
      ]
     },
     "execution_count": 67,
     "metadata": {},
     "output_type": "execute_result"
    }
   ],
   "source": [
    "a"
   ]
  },
  {
   "cell_type": "code",
   "execution_count": 68,
   "id": "b4ecc46d",
   "metadata": {},
   "outputs": [],
   "source": [
    "import json "
   ]
  },
  {
   "cell_type": "code",
   "execution_count": 70,
   "id": "284edee5",
   "metadata": {},
   "outputs": [],
   "source": [
    "result = a.to_json(orient=\"split\")\n",
    " "
   ]
  },
  {
   "cell_type": "code",
   "execution_count": 72,
   "id": "0c5f496e",
   "metadata": {},
   "outputs": [],
   "source": [
    "parsed = json.loads(result)\n"
   ]
  },
  {
   "cell_type": "code",
   "execution_count": 75,
   "id": "35675c1f",
   "metadata": {},
   "outputs": [],
   "source": [
    "parsed=json.dumps(parsed, indent=4,) "
   ]
  },
  {
   "cell_type": "code",
   "execution_count": 76,
   "id": "1e45be2c",
   "metadata": {},
   "outputs": [
    {
     "data": {
      "text/plain": [
       "'{\\n    \"columns\": [\\n        \"id_var\",\\n        \"text\",\\n        \"Score\"\\n    ],\\n    \"index\": [\\n        0,\\n        0,\\n        0,\\n        0,\\n        0,\\n        0,\\n        0,\\n        0,\\n        0,\\n        0\\n    ],\\n    \"data\": [\\n        [\\n            \"9d0473e6f00bd586a8521453c1588ff261de32fa\",\\n            \"Men\\'s Levi\\'s\\\\u00ae 513\\\\u2122 Slim Straight Stretch Jeans Emgee 32X29\",\\n            -10.5258207321\\n        ],\\n        [\\n            \"4b79c71924c61f0f7431710b1cdc39b61640f82e\",\\n            \"Men\\'s Levi\\'s\\\\u00ae 559\\\\u2122 Relaxed Straight Fit Jeans Range 40X32\",\\n            -10.676776886\\n        ],\\n        [\\n            \"2a4a1c4e1093cba12d2181379a65663b2f233017\",\\n            \"Men\\'s Levi\\'s\\\\u00ae 559\\\\u2122 Relaxed Straight Fit Jeans Black 38X32\",\\n            -10.6866941452\\n        ],\\n        [\\n            \"262158455d13511685f28215bbbb76b718913c4e\",\\n            \"Men\\'s Levi\\'s\\\\u00ae 559\\\\u2122 Relaxed Straight Fit Jeans Black 30X32\",\\n            -10.7483758926\\n        ],\\n        [\\n            \"78ebf400879b5889ec73705e241fa4d6d9d6eabd\",\\n            \"Men\\'s Levi\\'s\\\\u00ae 559\\\\u2122 Relaxed Straight Fit Jeans Light Blue 38X32\",\\n            -10.788898468\\n        ],\\n        [\\n            \"50fa33c7599331178e5de97ef96c1b6276a016d8\",\\n            \"Men\\'s Levi\\'s\\\\u00ae 559\\\\u2122 Relaxed Straight Fit Jeans Range 30X32\",\\n            -10.8048191071\\n        ],\\n        [\\n            \"a10e18e908801a186617c1e3f82c0bb9f26c305b\",\\n            \"Men\\'s Levi\\'s\\\\u00ae 559\\\\u2122 Relaxed Straight Fit Jeans Range 42X32\",\\n            -10.8587417603\\n        ],\\n        [\\n            \"b7afb19eb1a59ad033a524e54f7a4259b48748ff\",\\n            \"Men\\'s Levi\\'s\\\\u00ae 514\\\\u2122 Straight Jeans Black Soft Twill 38X30\",\\n            -10.8703432083\\n        ],\\n        [\\n            \"15a69f780f2bf1550bcef838174668111e908f91\",\\n            \"Men\\'s Levi\\'s\\\\u00ae 559\\\\u2122 Relaxed Straight Fit Jeans Black 40X32\",\\n            -10.9349498749\\n        ],\\n        [\\n            \"68c7179af6e169eb372616e78a192feb069d3d39\",\\n            \"Men\\'s Levi\\'s\\\\u00ae 559\\\\u2122 Relaxed Straight Fit Jeans Black 44X32\",\\n            -10.9419746399\\n        ]\\n    ]\\n}'"
      ]
     },
     "execution_count": 76,
     "metadata": {},
     "output_type": "execute_result"
    }
   ],
   "source": []
  },
  {
   "cell_type": "code",
   "execution_count": null,
   "id": "ed8cb807",
   "metadata": {},
   "outputs": [],
   "source": []
  }
 ],
 "metadata": {
  "kernelspec": {
   "display_name": "Python 3 (ipykernel)",
   "language": "python",
   "name": "python3"
  },
  "language_info": {
   "codemirror_mode": {
    "name": "ipython",
    "version": 3
   },
   "file_extension": ".py",
   "mimetype": "text/x-python",
   "name": "python",
   "nbconvert_exporter": "python",
   "pygments_lexer": "ipython3",
   "version": "3.8.12"
  }
 },
 "nbformat": 4,
 "nbformat_minor": 5
}
